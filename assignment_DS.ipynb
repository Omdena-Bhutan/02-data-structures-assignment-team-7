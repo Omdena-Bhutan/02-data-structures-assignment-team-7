{
  "nbformat": 4,
  "nbformat_minor": 0,
  "metadata": {
    "colab": {
      "provenance": [],
      "authorship_tag": "ABX9TyNW6Z2vwTOa4zrBijUv1LzY",
      "include_colab_link": true
    },
    "kernelspec": {
      "name": "python3",
      "display_name": "Python 3"
    },
    "language_info": {
      "name": "python"
    }
  },
  "cells": [
    {
      "cell_type": "markdown",
      "metadata": {
        "id": "view-in-github",
        "colab_type": "text"
      },
      "source": [
        "<a href=\"https://colab.research.google.com/github/Omdena-Bhutan/02-data-structures-assignment-team-7/blob/main/assignment_DS.ipynb\" target=\"_parent\"><img src=\"https://colab.research.google.com/assets/colab-badge.svg\" alt=\"Open In Colab\"/></a>"
      ]
    },
    {
      "cell_type": "markdown",
      "source": [
        "**Part 1: Character Profile (Using Dictionaries and Basic Types)**"
      ],
      "metadata": {
        "id": "WxU_0p5Ho-qg"
      }
    },
    {
      "cell_type": "code",
      "source": [
        "# Create a dictionaries\n",
        "character_profile = {\n",
        "    \"name\": \"Alistair the Brave\",\n",
        "    \"level\": 1,\n",
        "    \"health\": 100,\n",
        "    \"mana\": 50,\n",
        "    \"gold\": 50.75,\n",
        "    \"is_alive\": True\n",
        "}\n",
        "character_profile"
      ],
      "metadata": {
        "colab": {
          "base_uri": "https://localhost:8080/"
        },
        "id": "tnEzsrJ4pNSX",
        "outputId": "e48eb985-d142-46ae-b9e8-278eade6aaf3"
      },
      "execution_count": 2,
      "outputs": [
        {
          "output_type": "execute_result",
          "data": {
            "text/plain": [
              "{'name': 'Alistair the Brave',\n",
              " 'level': 1,\n",
              " 'health': 100,\n",
              " 'mana': 50,\n",
              " 'gold': 50.75,\n",
              " 'is_alive': True}"
            ]
          },
          "metadata": {},
          "execution_count": 2
        }
      ]
    },
    {
      "cell_type": "code",
      "source": [
        "# Print the character's name and level in a formatted string.\n",
        "print('Name: {}\\nLevel: {}'.format(character_profile['name'], character_profile['level']))"
      ],
      "metadata": {
        "colab": {
          "base_uri": "https://localhost:8080/"
        },
        "id": "1FM-TMOrptVs",
        "outputId": "c6c82389-af74-40d4-e5b0-42e4be248f45"
      },
      "execution_count": 3,
      "outputs": [
        {
          "output_type": "stream",
          "name": "stdout",
          "text": [
            "Name: Alistair the Brave\n",
            "Level: 1\n"
          ]
        }
      ]
    },
    {
      "cell_type": "code",
      "source": [
        "# Update the character's health to 85.\n",
        "character_profile['health'] = 85\n",
        "character_profile"
      ],
      "metadata": {
        "colab": {
          "base_uri": "https://localhost:8080/"
        },
        "id": "vX3FfRcmqJsy",
        "outputId": "2ebf2b19-148f-4ce4-9b76-0ec3bb9fab13"
      },
      "execution_count": 4,
      "outputs": [
        {
          "output_type": "execute_result",
          "data": {
            "text/plain": [
              "{'name': 'Alistair the Brave',\n",
              " 'level': 1,\n",
              " 'health': 85,\n",
              " 'mana': 50,\n",
              " 'gold': 50.75,\n",
              " 'is_alive': True}"
            ]
          },
          "metadata": {},
          "execution_count": 4
        }
      ]
    },
    {
      "cell_type": "code",
      "source": [
        "# Add a new key-value pair for 'experience' with a value of 0.\n",
        "character_profile['experience'] = 0\n",
        "character_profile"
      ],
      "metadata": {
        "colab": {
          "base_uri": "https://localhost:8080/"
        },
        "id": "86ea-ywsqSTZ",
        "outputId": "9f99b3e1-b839-44e4-b2d2-2fabd24a711d"
      },
      "execution_count": 5,
      "outputs": [
        {
          "output_type": "execute_result",
          "data": {
            "text/plain": [
              "{'name': 'Alistair the Brave',\n",
              " 'level': 1,\n",
              " 'health': 85,\n",
              " 'mana': 50,\n",
              " 'gold': 50.75,\n",
              " 'is_alive': True,\n",
              " 'experience': 0}"
            ]
          },
          "metadata": {},
          "execution_count": 5
        }
      ]
    },
    {
      "cell_type": "code",
      "source": [
        "# Print the final character_profile dictionary to the console.\n",
        "character_profile"
      ],
      "metadata": {
        "colab": {
          "base_uri": "https://localhost:8080/"
        },
        "id": "4L28ECPtqbWu",
        "outputId": "a2b14f83-bfdd-456e-d75e-7117609563fb"
      },
      "execution_count": 6,
      "outputs": [
        {
          "output_type": "execute_result",
          "data": {
            "text/plain": [
              "{'name': 'Alistair the Brave',\n",
              " 'level': 1,\n",
              " 'health': 85,\n",
              " 'mana': 50,\n",
              " 'gold': 50.75,\n",
              " 'is_alive': True,\n",
              " 'experience': 0}"
            ]
          },
          "metadata": {},
          "execution_count": 6
        }
      ]
    }
  ]
}