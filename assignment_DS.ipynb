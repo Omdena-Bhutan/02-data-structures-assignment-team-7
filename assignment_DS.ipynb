{
  "nbformat": 4,
  "nbformat_minor": 0,
  "metadata": {
    "colab": {
      "provenance": [],
      "authorship_tag": "ABX9TyNboYH6uPHUrqbfnZAwEZXZ",
      "include_colab_link": true
    },
    "kernelspec": {
      "name": "python3",
      "display_name": "Python 3"
    },
    "language_info": {
      "name": "python"
    }
  },
  "cells": [
    {
      "cell_type": "markdown",
      "metadata": {
        "id": "view-in-github",
        "colab_type": "text"
      },
      "source": [
        "<a href=\"https://colab.research.google.com/github/Omdena-Bhutan/02-data-structures-assignment-team-7/blob/tashi%2Fassignment/assignment_DS.ipynb\" target=\"_parent\"><img src=\"https://colab.research.google.com/assets/colab-badge.svg\" alt=\"Open In Colab\"/></a>"
      ]
    },
    {
      "cell_type": "markdown",
      "source": [
        "**Part 1: Character Profile (Using Dictionaries and Basic Types)**"
      ],
      "metadata": {
        "id": "WxU_0p5Ho-qg"
      }
    },
    {
      "cell_type": "code",
      "source": [
        "# Create a dictionaries\n",
        "character_profile = {\n",
        "    \"name\": \"Alistair the Brave\",\n",
        "    \"level\": 1,\n",
        "    \"health\": 100,\n",
        "    \"mana\": 50,\n",
        "    \"gold\": 50.75,\n",
        "    \"is_alive\": True\n",
        "}\n",
        "character_profile"
      ],
      "metadata": {
        "colab": {
          "base_uri": "https://localhost:8080/"
        },
        "id": "tnEzsrJ4pNSX",
        "outputId": "35fffd30-35f8-4417-f3a3-54d8d32ad7fb"
      },
      "execution_count": 1,
      "outputs": [
        {
          "output_type": "execute_result",
          "data": {
            "text/plain": [
              "{'name': 'Alistair the Brave',\n",
              " 'level': 1,\n",
              " 'health': 100,\n",
              " 'mana': 50,\n",
              " 'gold': 50.75,\n",
              " 'is_alive': True}"
            ]
          },
          "metadata": {},
          "execution_count": 1
        }
      ]
    },
    {
      "cell_type": "code",
      "source": [
        "# Print the character's name and level in a formatted string.\n",
        "print('Name: {}'.format(character_profile['name']))\n",
        "print('Level: {}'.format(character_profile['level']))"
      ],
      "metadata": {
        "colab": {
          "base_uri": "https://localhost:8080/"
        },
        "id": "1FM-TMOrptVs",
        "outputId": "2f7b3c01-f612-490d-f087-ed3d0276af78"
      },
      "execution_count": 2,
      "outputs": [
        {
          "output_type": "stream",
          "name": "stdout",
          "text": [
            "Name: Alistair the Brave\n",
            "Level: 1\n"
          ]
        }
      ]
    },
    {
      "cell_type": "code",
      "source": [
        "# Update the character's health to 85.\n",
        "character_profile['health'] = 85\n",
        "character_profile"
      ],
      "metadata": {
        "colab": {
          "base_uri": "https://localhost:8080/"
        },
        "id": "vX3FfRcmqJsy",
        "outputId": "82b63a34-c804-4ce0-a8d9-f5168c84545e"
      },
      "execution_count": 3,
      "outputs": [
        {
          "output_type": "execute_result",
          "data": {
            "text/plain": [
              "{'name': 'Alistair the Brave',\n",
              " 'level': 1,\n",
              " 'health': 85,\n",
              " 'mana': 50,\n",
              " 'gold': 50.75,\n",
              " 'is_alive': True}"
            ]
          },
          "metadata": {},
          "execution_count": 3
        }
      ]
    },
    {
      "cell_type": "code",
      "source": [
        "# Add a new key-value pair for 'experience' with a value of 0.\n",
        "character_profile['experience'] = 0\n",
        "character_profile"
      ],
      "metadata": {
        "colab": {
          "base_uri": "https://localhost:8080/"
        },
        "id": "86ea-ywsqSTZ",
        "outputId": "ca7e8787-b5c9-4eb2-81f4-91bc8222ecdf"
      },
      "execution_count": 4,
      "outputs": [
        {
          "output_type": "execute_result",
          "data": {
            "text/plain": [
              "{'name': 'Alistair the Brave',\n",
              " 'level': 1,\n",
              " 'health': 85,\n",
              " 'mana': 50,\n",
              " 'gold': 50.75,\n",
              " 'is_alive': True,\n",
              " 'experience': 0}"
            ]
          },
          "metadata": {},
          "execution_count": 4
        }
      ]
    },
    {
      "cell_type": "code",
      "source": [
        "# Print the final character_profile dictionary to the console.\n",
        "character_profile"
      ],
      "metadata": {
        "colab": {
          "base_uri": "https://localhost:8080/"
        },
        "id": "4L28ECPtqbWu",
        "outputId": "e406ef46-398d-495b-e4ce-7182421e0d31"
      },
      "execution_count": 5,
      "outputs": [
        {
          "output_type": "execute_result",
          "data": {
            "text/plain": [
              "{'name': 'Alistair the Brave',\n",
              " 'level': 1,\n",
              " 'health': 85,\n",
              " 'mana': 50,\n",
              " 'gold': 50.75,\n",
              " 'is_alive': True,\n",
              " 'experience': 0}"
            ]
          },
          "metadata": {},
          "execution_count": 5
        }
      ]
    }
  ]
}